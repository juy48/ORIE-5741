{
 "cells": [
  {
   "cell_type": "markdown",
   "id": "15f59e7e",
   "metadata": {},
   "source": [
    "# Data cleaning"
   ]
  },
  {
   "cell_type": "code",
   "execution_count": 277,
   "id": "886e67b5",
   "metadata": {},
   "outputs": [],
   "source": [
    "import numpy as np\n",
    "import pandas as pd\n",
    "import seaborn as sns\n",
    "from matplotlib import pyplot as plt\n",
    "from scipy.stats import iqr"
   ]
  },
  {
   "cell_type": "code",
   "execution_count": 278,
   "id": "b2781c9d",
   "metadata": {},
   "outputs": [],
   "source": [
    "df_p = pd.read_csv(\"all_stocks_5yr.csv\")"
   ]
  },
  {
   "cell_type": "code",
   "execution_count": 279,
   "id": "714aaa07",
   "metadata": {},
   "outputs": [],
   "source": [
    "df_p = df_p[['Name', 'date', 'close']]"
   ]
  },
  {
   "cell_type": "code",
   "execution_count": 280,
   "id": "c1ea75b3",
   "metadata": {},
   "outputs": [
    {
     "data": {
      "text/html": [
       "<div>\n",
       "<style scoped>\n",
       "    .dataframe tbody tr th:only-of-type {\n",
       "        vertical-align: middle;\n",
       "    }\n",
       "\n",
       "    .dataframe tbody tr th {\n",
       "        vertical-align: top;\n",
       "    }\n",
       "\n",
       "    .dataframe thead th {\n",
       "        text-align: right;\n",
       "    }\n",
       "</style>\n",
       "<table border=\"1\" class=\"dataframe\">\n",
       "  <thead>\n",
       "    <tr style=\"text-align: right;\">\n",
       "      <th></th>\n",
       "      <th>Name</th>\n",
       "      <th>date</th>\n",
       "      <th>close</th>\n",
       "    </tr>\n",
       "  </thead>\n",
       "  <tbody>\n",
       "    <tr>\n",
       "      <th>0</th>\n",
       "      <td>AAL</td>\n",
       "      <td>2013-02-08</td>\n",
       "      <td>14.75</td>\n",
       "    </tr>\n",
       "    <tr>\n",
       "      <th>1</th>\n",
       "      <td>AAL</td>\n",
       "      <td>2013-02-11</td>\n",
       "      <td>14.46</td>\n",
       "    </tr>\n",
       "    <tr>\n",
       "      <th>2</th>\n",
       "      <td>AAL</td>\n",
       "      <td>2013-02-12</td>\n",
       "      <td>14.27</td>\n",
       "    </tr>\n",
       "    <tr>\n",
       "      <th>3</th>\n",
       "      <td>AAL</td>\n",
       "      <td>2013-02-13</td>\n",
       "      <td>14.66</td>\n",
       "    </tr>\n",
       "    <tr>\n",
       "      <th>4</th>\n",
       "      <td>AAL</td>\n",
       "      <td>2013-02-14</td>\n",
       "      <td>13.99</td>\n",
       "    </tr>\n",
       "  </tbody>\n",
       "</table>\n",
       "</div>"
      ],
      "text/plain": [
       "  Name        date  close\n",
       "0  AAL  2013-02-08  14.75\n",
       "1  AAL  2013-02-11  14.46\n",
       "2  AAL  2013-02-12  14.27\n",
       "3  AAL  2013-02-13  14.66\n",
       "4  AAL  2013-02-14  13.99"
      ]
     },
     "execution_count": 280,
     "metadata": {},
     "output_type": "execute_result"
    }
   ],
   "source": [
    "df_p.head()"
   ]
  },
  {
   "cell_type": "markdown",
   "id": "de48e72e",
   "metadata": {},
   "source": [
    "Convert string dates into time object"
   ]
  },
  {
   "cell_type": "code",
   "execution_count": 281,
   "id": "dda233d3",
   "metadata": {},
   "outputs": [
    {
     "data": {
      "text/plain": [
       "pandas.core.series.Series"
      ]
     },
     "execution_count": 281,
     "metadata": {},
     "output_type": "execute_result"
    }
   ],
   "source": [
    "type(df_p['date'])"
   ]
  },
  {
   "cell_type": "code",
   "execution_count": 282,
   "id": "931fb00a",
   "metadata": {},
   "outputs": [],
   "source": [
    "from datetime import datetime\n",
    "\n",
    "df_p['date'] = df_p['date'].map(lambda x: datetime.strptime(x, '%Y-%m-%d'))"
   ]
  },
  {
   "cell_type": "markdown",
   "id": "ec664ced",
   "metadata": {},
   "source": [
    "Ar there any missing values?"
   ]
  },
  {
   "cell_type": "code",
   "execution_count": 283,
   "id": "a1c67b00",
   "metadata": {},
   "outputs": [
    {
     "data": {
      "text/plain": [
       "Name     0\n",
       "date     0\n",
       "close    0\n",
       "dtype: int64"
      ]
     },
     "execution_count": 283,
     "metadata": {},
     "output_type": "execute_result"
    }
   ],
   "source": [
    "np.sum(df_p.isna())"
   ]
  },
  {
   "cell_type": "code",
   "execution_count": 236,
   "id": "dd881a53",
   "metadata": {},
   "outputs": [],
   "source": [
    "# df_p.loc[df_p.isna()['close'] == True]\n",
    "# df_p = df_p.loc[df_p.isna()['open'] == False]"
   ]
  },
  {
   "cell_type": "markdown",
   "id": "12324760",
   "metadata": {},
   "source": [
    "No missing value."
   ]
  },
  {
   "cell_type": "markdown",
   "id": "ed28db70",
   "metadata": {},
   "source": [
    "Are there any outliers?"
   ]
  },
  {
   "cell_type": "code",
   "execution_count": 295,
   "id": "4ca232da",
   "metadata": {},
   "outputs": [
    {
     "data": {
      "text/html": [
       "<div>\n",
       "<style scoped>\n",
       "    .dataframe tbody tr th:only-of-type {\n",
       "        vertical-align: middle;\n",
       "    }\n",
       "\n",
       "    .dataframe tbody tr th {\n",
       "        vertical-align: top;\n",
       "    }\n",
       "\n",
       "    .dataframe thead th {\n",
       "        text-align: right;\n",
       "    }\n",
       "</style>\n",
       "<table border=\"1\" class=\"dataframe\">\n",
       "  <thead>\n",
       "    <tr style=\"text-align: right;\">\n",
       "      <th></th>\n",
       "      <th>Name</th>\n",
       "      <th>min</th>\n",
       "      <th>max</th>\n",
       "    </tr>\n",
       "  </thead>\n",
       "  <tbody>\n",
       "    <tr>\n",
       "      <th>0</th>\n",
       "      <td>A</td>\n",
       "      <td>25.435495</td>\n",
       "      <td>72.968555</td>\n",
       "    </tr>\n",
       "    <tr>\n",
       "      <th>1</th>\n",
       "      <td>AAL</td>\n",
       "      <td>10.177595</td>\n",
       "      <td>66.608910</td>\n",
       "    </tr>\n",
       "    <tr>\n",
       "      <th>2</th>\n",
       "      <td>AAP</td>\n",
       "      <td>51.902448</td>\n",
       "      <td>212.964478</td>\n",
       "    </tr>\n",
       "    <tr>\n",
       "      <th>3</th>\n",
       "      <td>AAPL</td>\n",
       "      <td>30.383618</td>\n",
       "      <td>187.749778</td>\n",
       "    </tr>\n",
       "    <tr>\n",
       "      <th>4</th>\n",
       "      <td>ABBV</td>\n",
       "      <td>25.509030</td>\n",
       "      <td>96.219850</td>\n",
       "    </tr>\n",
       "  </tbody>\n",
       "</table>\n",
       "</div>"
      ],
      "text/plain": [
       "   Name        min         max\n",
       "0     A  25.435495   72.968555\n",
       "1   AAL  10.177595   66.608910\n",
       "2   AAP  51.902448  212.964478\n",
       "3  AAPL  30.383618  187.749778\n",
       "4  ABBV  25.509030   96.219850"
      ]
     },
     "execution_count": 295,
     "metadata": {},
     "output_type": "execute_result"
    }
   ],
   "source": [
    "from scipy.stats import iqr\n",
    "\n",
    "stock_names = np.unique(df_p['Name'])\n",
    "n = len(stock_names)\n",
    "outliers = pd.DataFrame(0, index=np.arange(3*n), columns=['Name','min', 'max'])\n",
    "\n",
    "for i in range(n):\n",
    "    stock = df_p[df_p['Name'] == stock_names[i]]\n",
    "    outliers.loc[i,'Name'] = stock_names[i]\n",
    "    outliers.loc[i,'min'] = np.mean(stock['close']) - 2.576*np.std(stock['close'])\n",
    "    outliers.loc[i,'max'] = np.mean(stock['close']) + 2.576*np.std(stock['close'])\n",
    "\n",
    "outliers.head()"
   ]
  },
  {
   "cell_type": "code",
   "execution_count": 296,
   "id": "244bd5da",
   "metadata": {},
   "outputs": [],
   "source": [
    "df_joined = pd.merge(df_p, outliers, on=\"Name\", how=\"inner\")"
   ]
  },
  {
   "cell_type": "code",
   "execution_count": 300,
   "id": "a15d7d60",
   "metadata": {},
   "outputs": [],
   "source": [
    "df = df_joined[(df_joined['close'] > df_joined['min']) & (df_joined['close'] < df_joined['max'])]"
   ]
  },
  {
   "cell_type": "code",
   "execution_count": 302,
   "id": "22217ff0",
   "metadata": {},
   "outputs": [
    {
     "data": {
      "text/plain": [
       "0.9940795425174463"
      ]
     },
     "execution_count": 302,
     "metadata": {},
     "output_type": "execute_result"
    }
   ],
   "source": [
    "len(df)/len(df_joined)"
   ]
  },
  {
   "cell_type": "markdown",
   "id": "a5b95ce1",
   "metadata": {},
   "source": [
    "## (a) Mean Yearly Price"
   ]
  },
  {
   "cell_type": "code",
   "execution_count": 304,
   "id": "1ba56174",
   "metadata": {},
   "outputs": [],
   "source": [
    "mean_df = df[['close']].groupby([df['Name'], df['date'].dt.year]).mean()"
   ]
  },
  {
   "cell_type": "markdown",
   "id": "7a8aeb05",
   "metadata": {},
   "source": [
    "## Output"
   ]
  },
  {
   "cell_type": "code",
   "execution_count": 161,
   "id": "575d17bb",
   "metadata": {},
   "outputs": [],
   "source": [
    "# mean_df = mean_df.rename(columns={'close': 'mean_close'})"
   ]
  },
  {
   "cell_type": "code",
   "execution_count": 307,
   "id": "5c2f44d1",
   "metadata": {},
   "outputs": [],
   "source": [
    "df.to_csv(\"all_stocks\")"
   ]
  },
  {
   "cell_type": "code",
   "execution_count": null,
   "id": "48b8e7da",
   "metadata": {},
   "outputs": [],
   "source": []
  }
 ],
 "metadata": {
  "kernelspec": {
   "display_name": "Python 3",
   "language": "python",
   "name": "python3"
  },
  "language_info": {
   "codemirror_mode": {
    "name": "ipython",
    "version": 3
   },
   "file_extension": ".py",
   "mimetype": "text/x-python",
   "name": "python",
   "nbconvert_exporter": "python",
   "pygments_lexer": "ipython3",
   "version": "3.8.8"
  }
 },
 "nbformat": 4,
 "nbformat_minor": 5
}
